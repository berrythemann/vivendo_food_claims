{
 "cells": [
  {
   "cell_type": "markdown",
   "id": "eb4d23f9",
   "metadata": {},
   "source": [
    "# Vivendo Food Claims Data Exploration\n",
    "## by Abdulmaleek Oladipo\n",
    "\n",
    "## Introduction\n",
    "This dataset includes information about claims made by customers of this fast food establishments against the company (Vivendo).\n",
    "\n",
    "\n",
    "## Preliminary Wrangling\n"
   ]
  },
  {
   "cell_type": "code",
   "execution_count": 1,
   "id": "d2654150",
   "metadata": {},
   "outputs": [],
   "source": [
    "# import all packages and set plots to be embedded inline\n",
    "import numpy as np\n",
    "import pandas as pd\n",
    "import matplotlib.pyplot as plt\n",
    "import seaborn as sb\n",
    "\n",
    "%matplotlib inline"
   ]
  },
  {
   "cell_type": "code",
   "execution_count": 2,
   "id": "19ac2170",
   "metadata": {},
   "outputs": [],
   "source": [
    "# load in the dataset into a pandas dataframe\n",
    "food_claims = pd.read_csv('claims.csv')"
   ]
  },
  {
   "cell_type": "code",
   "execution_count": 3,
   "id": "454139b2",
   "metadata": {},
   "outputs": [
    {
     "data": {
      "text/html": [
       "<div>\n",
       "<style scoped>\n",
       "    .dataframe tbody tr th:only-of-type {\n",
       "        vertical-align: middle;\n",
       "    }\n",
       "\n",
       "    .dataframe tbody tr th {\n",
       "        vertical-align: top;\n",
       "    }\n",
       "\n",
       "    .dataframe thead th {\n",
       "        text-align: right;\n",
       "    }\n",
       "</style>\n",
       "<table border=\"1\" class=\"dataframe\">\n",
       "  <thead>\n",
       "    <tr style=\"text-align: right;\">\n",
       "      <th></th>\n",
       "      <th>Claim ID</th>\n",
       "      <th>Time to Close</th>\n",
       "      <th>Claim Amount</th>\n",
       "      <th>Amount Paid</th>\n",
       "      <th>Location</th>\n",
       "      <th>Individuals on Claim</th>\n",
       "      <th>Linked Cases</th>\n",
       "      <th>Cause</th>\n",
       "    </tr>\n",
       "  </thead>\n",
       "  <tbody>\n",
       "    <tr>\n",
       "      <th>0</th>\n",
       "      <td>0000000-00.2010.0.00.0094</td>\n",
       "      <td>2082</td>\n",
       "      <td>R$50,000.00</td>\n",
       "      <td>34297.47</td>\n",
       "      <td>RECIFE</td>\n",
       "      <td>2</td>\n",
       "      <td>False</td>\n",
       "      <td>NaN</td>\n",
       "    </tr>\n",
       "    <tr>\n",
       "      <th>1</th>\n",
       "      <td>0000000-00.2011.0.00.0086</td>\n",
       "      <td>3591</td>\n",
       "      <td>R$180,000.00</td>\n",
       "      <td>56383.54</td>\n",
       "      <td>SAO LUIS</td>\n",
       "      <td>7</td>\n",
       "      <td>False</td>\n",
       "      <td>NaN</td>\n",
       "    </tr>\n",
       "    <tr>\n",
       "      <th>2</th>\n",
       "      <td>0000000-00.2012.0.00.0092</td>\n",
       "      <td>2997</td>\n",
       "      <td>R$70,000.00</td>\n",
       "      <td>12366.76</td>\n",
       "      <td>SAO LUIS</td>\n",
       "      <td>3</td>\n",
       "      <td>False</td>\n",
       "      <td>vegetables</td>\n",
       "    </tr>\n",
       "    <tr>\n",
       "      <th>3</th>\n",
       "      <td>0000000-00.2013.0.00.0096</td>\n",
       "      <td>1143</td>\n",
       "      <td>R$95,104.00</td>\n",
       "      <td>29217.16</td>\n",
       "      <td>FORTALEZA</td>\n",
       "      <td>4</td>\n",
       "      <td>False</td>\n",
       "      <td>NaN</td>\n",
       "    </tr>\n",
       "    <tr>\n",
       "      <th>4</th>\n",
       "      <td>0000000-00.2014.0.00.0097</td>\n",
       "      <td>117</td>\n",
       "      <td>R$29,000.00</td>\n",
       "      <td>12610.50</td>\n",
       "      <td>FORTALEZA</td>\n",
       "      <td>1</td>\n",
       "      <td>False</td>\n",
       "      <td>meat</td>\n",
       "    </tr>\n",
       "  </tbody>\n",
       "</table>\n",
       "</div>"
      ],
      "text/plain": [
       "                    Claim ID  Time to Close  Claim Amount  Amount Paid  \\\n",
       "0  0000000-00.2010.0.00.0094           2082   R$50,000.00     34297.47   \n",
       "1  0000000-00.2011.0.00.0086           3591  R$180,000.00     56383.54   \n",
       "2  0000000-00.2012.0.00.0092           2997   R$70,000.00     12366.76   \n",
       "3  0000000-00.2013.0.00.0096           1143   R$95,104.00     29217.16   \n",
       "4  0000000-00.2014.0.00.0097            117   R$29,000.00     12610.50   \n",
       "\n",
       "    Location  Individuals on Claim  Linked Cases       Cause  \n",
       "0     RECIFE                     2         False         NaN  \n",
       "1   SAO LUIS                     7         False         NaN  \n",
       "2   SAO LUIS                     3         False  vegetables  \n",
       "3  FORTALEZA                     4         False         NaN  \n",
       "4  FORTALEZA                     1         False        meat  "
      ]
     },
     "execution_count": 3,
     "metadata": {},
     "output_type": "execute_result"
    }
   ],
   "source": [
    "food_claims.head(5)"
   ]
  },
  {
   "cell_type": "code",
   "execution_count": 4,
   "id": "5e4f0f46",
   "metadata": {},
   "outputs": [
    {
     "name": "stdout",
     "output_type": "stream",
     "text": [
      "(98, 8)\n",
      "<class 'pandas.core.frame.DataFrame'>\n",
      "RangeIndex: 98 entries, 0 to 97\n",
      "Data columns (total 8 columns):\n",
      " #   Column                Non-Null Count  Dtype  \n",
      "---  ------                --------------  -----  \n",
      " 0   Claim ID              98 non-null     object \n",
      " 1   Time to Close         98 non-null     int64  \n",
      " 2   Claim Amount          98 non-null     object \n",
      " 3   Amount Paid           98 non-null     float64\n",
      " 4   Location              98 non-null     object \n",
      " 5   Individuals on Claim  98 non-null     int64  \n",
      " 6   Linked Cases          98 non-null     bool   \n",
      " 7   Cause                 20 non-null     object \n",
      "dtypes: bool(1), float64(1), int64(2), object(4)\n",
      "memory usage: 5.6+ KB\n",
      "None\n"
     ]
    }
   ],
   "source": [
    "# high-level overview of data shape and composition\n",
    "print(food_claims.shape)\n",
    "print(food_claims.info())"
   ]
  },
  {
   "cell_type": "code",
   "execution_count": 5,
   "id": "2e423c38",
   "metadata": {},
   "outputs": [],
   "source": [
    "# renaming all column labels to replace spaces with underscores\n",
    "# and convert everything to lowerccase\n",
    "food_claims.rename(columns=lambda x:x.strip().lower().replace(\" \",\"_\"),inplace=True)"
   ]
  },
  {
   "cell_type": "code",
   "execution_count": 6,
   "id": "e0070f14",
   "metadata": {},
   "outputs": [
    {
     "data": {
      "text/plain": [
       "['claim_id',\n",
       " 'time_to_close',\n",
       " 'claim_amount',\n",
       " 'amount_paid',\n",
       " 'location',\n",
       " 'individuals_on_claim',\n",
       " 'linked_cases',\n",
       " 'cause']"
      ]
     },
     "execution_count": 6,
     "metadata": {},
     "output_type": "execute_result"
    }
   ],
   "source": [
    "#check effect of changes made\n",
    "list(food_claims)"
   ]
  },
  {
   "cell_type": "code",
   "execution_count": 7,
   "id": "6447ffc0",
   "metadata": {},
   "outputs": [
    {
     "data": {
      "text/plain": [
       "98"
      ]
     },
     "execution_count": 7,
     "metadata": {},
     "output_type": "execute_result"
    }
   ],
   "source": [
    "food_claims.claim_id.nunique()"
   ]
  },
  {
   "cell_type": "code",
   "execution_count": 8,
   "id": "d7bea931",
   "metadata": {},
   "outputs": [
    {
     "data": {
      "text/plain": [
       "array(['RECIFE', 'SAO LUIS', 'FORTALEZA', 'NATAL'], dtype=object)"
      ]
     },
     "execution_count": 8,
     "metadata": {},
     "output_type": "execute_result"
    }
   ],
   "source": [
    "food_claims.location.unique()"
   ]
  },
  {
   "cell_type": "code",
   "execution_count": 9,
   "id": "d4ff2769",
   "metadata": {},
   "outputs": [
    {
     "data": {
      "text/html": [
       "<div>\n",
       "<style scoped>\n",
       "    .dataframe tbody tr th:only-of-type {\n",
       "        vertical-align: middle;\n",
       "    }\n",
       "\n",
       "    .dataframe tbody tr th {\n",
       "        vertical-align: top;\n",
       "    }\n",
       "\n",
       "    .dataframe thead th {\n",
       "        text-align: right;\n",
       "    }\n",
       "</style>\n",
       "<table border=\"1\" class=\"dataframe\">\n",
       "  <thead>\n",
       "    <tr style=\"text-align: right;\">\n",
       "      <th></th>\n",
       "      <th>claim_id</th>\n",
       "      <th>time_to_close</th>\n",
       "      <th>claim_amount</th>\n",
       "      <th>amount_paid</th>\n",
       "      <th>location</th>\n",
       "      <th>individuals_on_claim</th>\n",
       "      <th>linked_cases</th>\n",
       "      <th>cause</th>\n",
       "    </tr>\n",
       "  </thead>\n",
       "  <tbody>\n",
       "    <tr>\n",
       "      <th>95</th>\n",
       "      <td>0000000-00.2020.0.00.0010</td>\n",
       "      <td>201</td>\n",
       "      <td>R$60,000.00</td>\n",
       "      <td>42318.80</td>\n",
       "      <td>NATAL</td>\n",
       "      <td>2</td>\n",
       "      <td>False</td>\n",
       "      <td>NaN</td>\n",
       "    </tr>\n",
       "    <tr>\n",
       "      <th>47</th>\n",
       "      <td>0000000-00.2018.0.00.0005</td>\n",
       "      <td>769</td>\n",
       "      <td>R$40,000.00</td>\n",
       "      <td>6559.11</td>\n",
       "      <td>RECIFE</td>\n",
       "      <td>1</td>\n",
       "      <td>False</td>\n",
       "      <td>NaN</td>\n",
       "    </tr>\n",
       "    <tr>\n",
       "      <th>44</th>\n",
       "      <td>0000000-00.2018.0.00.0013</td>\n",
       "      <td>823</td>\n",
       "      <td>R$82,327.00</td>\n",
       "      <td>64982.76</td>\n",
       "      <td>NATAL</td>\n",
       "      <td>3</td>\n",
       "      <td>False</td>\n",
       "      <td>NaN</td>\n",
       "    </tr>\n",
       "    <tr>\n",
       "      <th>54</th>\n",
       "      <td>0000000-00.2019.0.00.0060</td>\n",
       "      <td>642</td>\n",
       "      <td>R$363,746.00</td>\n",
       "      <td>177379.01</td>\n",
       "      <td>NATAL</td>\n",
       "      <td>15</td>\n",
       "      <td>True</td>\n",
       "      <td>NaN</td>\n",
       "    </tr>\n",
       "    <tr>\n",
       "      <th>38</th>\n",
       "      <td>0000000-00.2018.0.00.0003</td>\n",
       "      <td>925</td>\n",
       "      <td>R$3,841.00</td>\n",
       "      <td>1324.24</td>\n",
       "      <td>RECIFE</td>\n",
       "      <td>0</td>\n",
       "      <td>False</td>\n",
       "      <td>NaN</td>\n",
       "    </tr>\n",
       "  </tbody>\n",
       "</table>\n",
       "</div>"
      ],
      "text/plain": [
       "                     claim_id  time_to_close  claim_amount  amount_paid  \\\n",
       "95  0000000-00.2020.0.00.0010            201   R$60,000.00     42318.80   \n",
       "47  0000000-00.2018.0.00.0005            769   R$40,000.00      6559.11   \n",
       "44  0000000-00.2018.0.00.0013            823   R$82,327.00     64982.76   \n",
       "54  0000000-00.2019.0.00.0060            642  R$363,746.00    177379.01   \n",
       "38  0000000-00.2018.0.00.0003            925    R$3,841.00      1324.24   \n",
       "\n",
       "   location  individuals_on_claim  linked_cases cause  \n",
       "95    NATAL                     2         False   NaN  \n",
       "47   RECIFE                     1         False   NaN  \n",
       "44    NATAL                     3         False   NaN  \n",
       "54    NATAL                    15          True   NaN  \n",
       "38   RECIFE                     0         False   NaN  "
      ]
     },
     "execution_count": 9,
     "metadata": {},
     "output_type": "execute_result"
    }
   ],
   "source": [
    "food_claims.sample(5)"
   ]
  },
  {
   "cell_type": "code",
   "execution_count": 10,
   "id": "b5b4ac5f",
   "metadata": {},
   "outputs": [],
   "source": [
    "# fill null values in the cause column with 'unknown'\n",
    "food_claims.cause.fillna('unknown', inplace=True)"
   ]
  },
  {
   "cell_type": "code",
   "execution_count": 11,
   "id": "ba2d29dc",
   "metadata": {},
   "outputs": [
    {
     "data": {
      "text/plain": [
       "array(['unknown', 'vegetables', 'meat'], dtype=object)"
      ]
     },
     "execution_count": 11,
     "metadata": {},
     "output_type": "execute_result"
    }
   ],
   "source": [
    "# confirming the change made\n",
    "food_claims.cause.unique()"
   ]
  },
  {
   "cell_type": "code",
   "execution_count": 12,
   "id": "7e9d7a29",
   "metadata": {},
   "outputs": [
    {
     "data": {
      "text/plain": [
       "False    89\n",
       "True      9\n",
       "Name: linked_cases, dtype: int64"
      ]
     },
     "execution_count": 12,
     "metadata": {},
     "output_type": "execute_result"
    }
   ],
   "source": [
    "food_claims.linked_cases.value_counts()"
   ]
  },
  {
   "cell_type": "code",
   "execution_count": 13,
   "id": "9ee86d60",
   "metadata": {},
   "outputs": [
    {
     "data": {
      "text/html": [
       "<div>\n",
       "<style scoped>\n",
       "    .dataframe tbody tr th:only-of-type {\n",
       "        vertical-align: middle;\n",
       "    }\n",
       "\n",
       "    .dataframe tbody tr th {\n",
       "        vertical-align: top;\n",
       "    }\n",
       "\n",
       "    .dataframe thead th {\n",
       "        text-align: right;\n",
       "    }\n",
       "</style>\n",
       "<table border=\"1\" class=\"dataframe\">\n",
       "  <thead>\n",
       "    <tr style=\"text-align: right;\">\n",
       "      <th></th>\n",
       "      <th>claim_id</th>\n",
       "      <th>time_to_close</th>\n",
       "      <th>claim_amount</th>\n",
       "      <th>amount_paid</th>\n",
       "      <th>location</th>\n",
       "      <th>individuals_on_claim</th>\n",
       "      <th>linked_cases</th>\n",
       "      <th>cause</th>\n",
       "    </tr>\n",
       "  </thead>\n",
       "  <tbody>\n",
       "    <tr>\n",
       "      <th>28</th>\n",
       "      <td>0000000-00.2017.0.00.0031</td>\n",
       "      <td>1169</td>\n",
       "      <td>R$400,000.00</td>\n",
       "      <td>119084.55</td>\n",
       "      <td>SAO LUIS</td>\n",
       "      <td>17</td>\n",
       "      <td>True</td>\n",
       "      <td>vegetables</td>\n",
       "    </tr>\n",
       "    <tr>\n",
       "      <th>29</th>\n",
       "      <td>0000000-00.2017.0.00.0011</td>\n",
       "      <td>1164</td>\n",
       "      <td>R$704,839.00</td>\n",
       "      <td>164058.23</td>\n",
       "      <td>RECIFE</td>\n",
       "      <td>30</td>\n",
       "      <td>True</td>\n",
       "      <td>meat</td>\n",
       "    </tr>\n",
       "    <tr>\n",
       "      <th>33</th>\n",
       "      <td>0000000-00.2018.0.00.0089</td>\n",
       "      <td>1051</td>\n",
       "      <td>R$410,000.00</td>\n",
       "      <td>294547.51</td>\n",
       "      <td>SAO LUIS</td>\n",
       "      <td>18</td>\n",
       "      <td>True</td>\n",
       "      <td>unknown</td>\n",
       "    </tr>\n",
       "    <tr>\n",
       "      <th>40</th>\n",
       "      <td>0000000-00.2018.0.00.0098</td>\n",
       "      <td>153</td>\n",
       "      <td>R$936,540.00</td>\n",
       "      <td>433320.46</td>\n",
       "      <td>NATAL</td>\n",
       "      <td>41</td>\n",
       "      <td>True</td>\n",
       "      <td>unknown</td>\n",
       "    </tr>\n",
       "    <tr>\n",
       "      <th>54</th>\n",
       "      <td>0000000-00.2019.0.00.0060</td>\n",
       "      <td>642</td>\n",
       "      <td>R$363,746.00</td>\n",
       "      <td>177379.01</td>\n",
       "      <td>NATAL</td>\n",
       "      <td>15</td>\n",
       "      <td>True</td>\n",
       "      <td>unknown</td>\n",
       "    </tr>\n",
       "    <tr>\n",
       "      <th>59</th>\n",
       "      <td>0000000-00.2019.0.00.0009</td>\n",
       "      <td>634</td>\n",
       "      <td>R$754,317.00</td>\n",
       "      <td>145843.76</td>\n",
       "      <td>NATAL</td>\n",
       "      <td>33</td>\n",
       "      <td>True</td>\n",
       "      <td>meat</td>\n",
       "    </tr>\n",
       "    <tr>\n",
       "      <th>78</th>\n",
       "      <td>0000000-00.2020.0.00.0035</td>\n",
       "      <td>60</td>\n",
       "      <td>R$736,422.00</td>\n",
       "      <td>558725.77</td>\n",
       "      <td>SAO LUIS</td>\n",
       "      <td>32</td>\n",
       "      <td>True</td>\n",
       "      <td>vegetables</td>\n",
       "    </tr>\n",
       "    <tr>\n",
       "      <th>88</th>\n",
       "      <td>0000000-00.2020.0.00.0014</td>\n",
       "      <td>149</td>\n",
       "      <td>R$409,816.00</td>\n",
       "      <td>279638.60</td>\n",
       "      <td>NATAL</td>\n",
       "      <td>17</td>\n",
       "      <td>True</td>\n",
       "      <td>unknown</td>\n",
       "    </tr>\n",
       "    <tr>\n",
       "      <th>96</th>\n",
       "      <td>0000000-00.2020.0.00.0059</td>\n",
       "      <td>200</td>\n",
       "      <td>R$474,542.00</td>\n",
       "      <td>329473.49</td>\n",
       "      <td>NATAL</td>\n",
       "      <td>20</td>\n",
       "      <td>True</td>\n",
       "      <td>unknown</td>\n",
       "    </tr>\n",
       "  </tbody>\n",
       "</table>\n",
       "</div>"
      ],
      "text/plain": [
       "                     claim_id  time_to_close  claim_amount  amount_paid  \\\n",
       "28  0000000-00.2017.0.00.0031           1169  R$400,000.00    119084.55   \n",
       "29  0000000-00.2017.0.00.0011           1164  R$704,839.00    164058.23   \n",
       "33  0000000-00.2018.0.00.0089           1051  R$410,000.00    294547.51   \n",
       "40  0000000-00.2018.0.00.0098            153  R$936,540.00    433320.46   \n",
       "54  0000000-00.2019.0.00.0060            642  R$363,746.00    177379.01   \n",
       "59  0000000-00.2019.0.00.0009            634  R$754,317.00    145843.76   \n",
       "78  0000000-00.2020.0.00.0035             60  R$736,422.00    558725.77   \n",
       "88  0000000-00.2020.0.00.0014            149  R$409,816.00    279638.60   \n",
       "96  0000000-00.2020.0.00.0059            200  R$474,542.00    329473.49   \n",
       "\n",
       "    location  individuals_on_claim  linked_cases       cause  \n",
       "28  SAO LUIS                    17          True  vegetables  \n",
       "29    RECIFE                    30          True        meat  \n",
       "33  SAO LUIS                    18          True     unknown  \n",
       "40     NATAL                    41          True     unknown  \n",
       "54     NATAL                    15          True     unknown  \n",
       "59     NATAL                    33          True        meat  \n",
       "78  SAO LUIS                    32          True  vegetables  \n",
       "88     NATAL                    17          True     unknown  \n",
       "96     NATAL                    20          True     unknown  "
      ]
     },
     "execution_count": 13,
     "metadata": {},
     "output_type": "execute_result"
    }
   ],
   "source": [
    "food_claims[food_claims['linked_cases']== True]"
   ]
  },
  {
   "cell_type": "code",
   "execution_count": 14,
   "id": "819c8a2a",
   "metadata": {},
   "outputs": [],
   "source": [
    "# changing the claim amount column from str to int datatype\n",
    "food_claims['claim_amount']= food_claims.claim_amount.str.replace(\",\",\"\")  #removing comma\n",
    "food_claims['claim_amount']= food_claims.claim_amount.str[2:]  #removing 'R$'\n",
    "food_claims['claim_amount']= food_claims.claim_amount.str[:-3]  #removing the decimal part and the decimal point\n",
    "food_claims['claim_amount']= food_claims.claim_amount.astype(int) #finally converting to integer"
   ]
  },
  {
   "cell_type": "code",
   "execution_count": 15,
   "id": "9224ad7b",
   "metadata": {},
   "outputs": [
    {
     "name": "stdout",
     "output_type": "stream",
     "text": [
      "claim_id                 object\n",
      "time_to_close             int64\n",
      "claim_amount              int32\n",
      "amount_paid             float64\n",
      "location                 object\n",
      "individuals_on_claim      int64\n",
      "linked_cases               bool\n",
      "cause                    object\n",
      "dtype: object\n"
     ]
    },
    {
     "data": {
      "text/html": [
       "<div>\n",
       "<style scoped>\n",
       "    .dataframe tbody tr th:only-of-type {\n",
       "        vertical-align: middle;\n",
       "    }\n",
       "\n",
       "    .dataframe tbody tr th {\n",
       "        vertical-align: top;\n",
       "    }\n",
       "\n",
       "    .dataframe thead th {\n",
       "        text-align: right;\n",
       "    }\n",
       "</style>\n",
       "<table border=\"1\" class=\"dataframe\">\n",
       "  <thead>\n",
       "    <tr style=\"text-align: right;\">\n",
       "      <th></th>\n",
       "      <th>claim_id</th>\n",
       "      <th>time_to_close</th>\n",
       "      <th>claim_amount</th>\n",
       "      <th>amount_paid</th>\n",
       "      <th>location</th>\n",
       "      <th>individuals_on_claim</th>\n",
       "      <th>linked_cases</th>\n",
       "      <th>cause</th>\n",
       "    </tr>\n",
       "  </thead>\n",
       "  <tbody>\n",
       "    <tr>\n",
       "      <th>0</th>\n",
       "      <td>0000000-00.2010.0.00.0094</td>\n",
       "      <td>2082</td>\n",
       "      <td>50000</td>\n",
       "      <td>34297.47</td>\n",
       "      <td>RECIFE</td>\n",
       "      <td>2</td>\n",
       "      <td>False</td>\n",
       "      <td>unknown</td>\n",
       "    </tr>\n",
       "    <tr>\n",
       "      <th>1</th>\n",
       "      <td>0000000-00.2011.0.00.0086</td>\n",
       "      <td>3591</td>\n",
       "      <td>180000</td>\n",
       "      <td>56383.54</td>\n",
       "      <td>SAO LUIS</td>\n",
       "      <td>7</td>\n",
       "      <td>False</td>\n",
       "      <td>unknown</td>\n",
       "    </tr>\n",
       "    <tr>\n",
       "      <th>2</th>\n",
       "      <td>0000000-00.2012.0.00.0092</td>\n",
       "      <td>2997</td>\n",
       "      <td>70000</td>\n",
       "      <td>12366.76</td>\n",
       "      <td>SAO LUIS</td>\n",
       "      <td>3</td>\n",
       "      <td>False</td>\n",
       "      <td>vegetables</td>\n",
       "    </tr>\n",
       "    <tr>\n",
       "      <th>3</th>\n",
       "      <td>0000000-00.2013.0.00.0096</td>\n",
       "      <td>1143</td>\n",
       "      <td>95104</td>\n",
       "      <td>29217.16</td>\n",
       "      <td>FORTALEZA</td>\n",
       "      <td>4</td>\n",
       "      <td>False</td>\n",
       "      <td>unknown</td>\n",
       "    </tr>\n",
       "    <tr>\n",
       "      <th>4</th>\n",
       "      <td>0000000-00.2014.0.00.0097</td>\n",
       "      <td>117</td>\n",
       "      <td>29000</td>\n",
       "      <td>12610.50</td>\n",
       "      <td>FORTALEZA</td>\n",
       "      <td>1</td>\n",
       "      <td>False</td>\n",
       "      <td>meat</td>\n",
       "    </tr>\n",
       "  </tbody>\n",
       "</table>\n",
       "</div>"
      ],
      "text/plain": [
       "                    claim_id  time_to_close  claim_amount  amount_paid  \\\n",
       "0  0000000-00.2010.0.00.0094           2082         50000     34297.47   \n",
       "1  0000000-00.2011.0.00.0086           3591        180000     56383.54   \n",
       "2  0000000-00.2012.0.00.0092           2997         70000     12366.76   \n",
       "3  0000000-00.2013.0.00.0096           1143         95104     29217.16   \n",
       "4  0000000-00.2014.0.00.0097            117         29000     12610.50   \n",
       "\n",
       "    location  individuals_on_claim  linked_cases       cause  \n",
       "0     RECIFE                     2         False     unknown  \n",
       "1   SAO LUIS                     7         False     unknown  \n",
       "2   SAO LUIS                     3         False  vegetables  \n",
       "3  FORTALEZA                     4         False     unknown  \n",
       "4  FORTALEZA                     1         False        meat  "
      ]
     },
     "execution_count": 15,
     "metadata": {},
     "output_type": "execute_result"
    }
   ],
   "source": [
    "# to confirm the changes made\n",
    "print(food_claims.dtypes)\n",
    "food_claims.head(5)"
   ]
  },
  {
   "cell_type": "code",
   "execution_count": 16,
   "id": "ac59f5c8",
   "metadata": {},
   "outputs": [
    {
     "data": {
      "text/html": [
       "<div>\n",
       "<style scoped>\n",
       "    .dataframe tbody tr th:only-of-type {\n",
       "        vertical-align: middle;\n",
       "    }\n",
       "\n",
       "    .dataframe tbody tr th {\n",
       "        vertical-align: top;\n",
       "    }\n",
       "\n",
       "    .dataframe thead th {\n",
       "        text-align: right;\n",
       "    }\n",
       "</style>\n",
       "<table border=\"1\" class=\"dataframe\">\n",
       "  <thead>\n",
       "    <tr style=\"text-align: right;\">\n",
       "      <th></th>\n",
       "      <th>time_to_close</th>\n",
       "      <th>claim_amount</th>\n",
       "      <th>amount_paid</th>\n",
       "      <th>individuals_on_claim</th>\n",
       "    </tr>\n",
       "  </thead>\n",
       "  <tbody>\n",
       "    <tr>\n",
       "      <th>count</th>\n",
       "      <td>98.000000</td>\n",
       "      <td>98.000000</td>\n",
       "      <td>98.000000</td>\n",
       "      <td>98.000000</td>\n",
       "    </tr>\n",
       "    <tr>\n",
       "      <th>mean</th>\n",
       "      <td>832.346939</td>\n",
       "      <td>122952.030612</td>\n",
       "      <td>58448.238571</td>\n",
       "      <td>4.908163</td>\n",
       "    </tr>\n",
       "    <tr>\n",
       "      <th>std</th>\n",
       "      <td>686.851131</td>\n",
       "      <td>166433.389040</td>\n",
       "      <td>87525.873849</td>\n",
       "      <td>7.292259</td>\n",
       "    </tr>\n",
       "    <tr>\n",
       "      <th>min</th>\n",
       "      <td>-57.000000</td>\n",
       "      <td>3555.000000</td>\n",
       "      <td>999.680000</td>\n",
       "      <td>0.000000</td>\n",
       "    </tr>\n",
       "    <tr>\n",
       "      <th>25%</th>\n",
       "      <td>340.750000</td>\n",
       "      <td>40000.000000</td>\n",
       "      <td>15965.642500</td>\n",
       "      <td>1.000000</td>\n",
       "    </tr>\n",
       "    <tr>\n",
       "      <th>50%</th>\n",
       "      <td>638.500000</td>\n",
       "      <td>58454.500000</td>\n",
       "      <td>29451.040000</td>\n",
       "      <td>2.000000</td>\n",
       "    </tr>\n",
       "    <tr>\n",
       "      <th>75%</th>\n",
       "      <td>1138.750000</td>\n",
       "      <td>136573.250000</td>\n",
       "      <td>52114.760000</td>\n",
       "      <td>5.750000</td>\n",
       "    </tr>\n",
       "    <tr>\n",
       "      <th>max</th>\n",
       "      <td>3591.000000</td>\n",
       "      <td>936540.000000</td>\n",
       "      <td>558725.770000</td>\n",
       "      <td>41.000000</td>\n",
       "    </tr>\n",
       "  </tbody>\n",
       "</table>\n",
       "</div>"
      ],
      "text/plain": [
       "       time_to_close   claim_amount    amount_paid  individuals_on_claim\n",
       "count      98.000000      98.000000      98.000000             98.000000\n",
       "mean      832.346939  122952.030612   58448.238571              4.908163\n",
       "std       686.851131  166433.389040   87525.873849              7.292259\n",
       "min       -57.000000    3555.000000     999.680000              0.000000\n",
       "25%       340.750000   40000.000000   15965.642500              1.000000\n",
       "50%       638.500000   58454.500000   29451.040000              2.000000\n",
       "75%      1138.750000  136573.250000   52114.760000              5.750000\n",
       "max      3591.000000  936540.000000  558725.770000             41.000000"
      ]
     },
     "execution_count": 16,
     "metadata": {},
     "output_type": "execute_result"
    }
   ],
   "source": [
    "food_claims.describe()"
   ]
  },
  {
   "cell_type": "code",
   "execution_count": 17,
   "id": "6dc3b5f9",
   "metadata": {},
   "outputs": [
    {
     "data": {
      "text/html": [
       "<div>\n",
       "<style scoped>\n",
       "    .dataframe tbody tr th:only-of-type {\n",
       "        vertical-align: middle;\n",
       "    }\n",
       "\n",
       "    .dataframe tbody tr th {\n",
       "        vertical-align: top;\n",
       "    }\n",
       "\n",
       "    .dataframe thead th {\n",
       "        text-align: right;\n",
       "    }\n",
       "</style>\n",
       "<table border=\"1\" class=\"dataframe\">\n",
       "  <thead>\n",
       "    <tr style=\"text-align: right;\">\n",
       "      <th></th>\n",
       "      <th>claim_id</th>\n",
       "      <th>time_to_close</th>\n",
       "      <th>claim_amount</th>\n",
       "      <th>amount_paid</th>\n",
       "      <th>location</th>\n",
       "      <th>individuals_on_claim</th>\n",
       "      <th>linked_cases</th>\n",
       "      <th>cause</th>\n",
       "    </tr>\n",
       "  </thead>\n",
       "  <tbody>\n",
       "    <tr>\n",
       "      <th>58</th>\n",
       "      <td>0000000-00.2019.0.00.0079</td>\n",
       "      <td>-57</td>\n",
       "      <td>3672</td>\n",
       "      <td>999.68</td>\n",
       "      <td>SAO LUIS</td>\n",
       "      <td>0</td>\n",
       "      <td>False</td>\n",
       "      <td>unknown</td>\n",
       "    </tr>\n",
       "  </tbody>\n",
       "</table>\n",
       "</div>"
      ],
      "text/plain": [
       "                     claim_id  time_to_close  claim_amount  amount_paid  \\\n",
       "58  0000000-00.2019.0.00.0079            -57          3672       999.68   \n",
       "\n",
       "    location  individuals_on_claim  linked_cases    cause  \n",
       "58  SAO LUIS                     0         False  unknown  "
      ]
     },
     "execution_count": 17,
     "metadata": {},
     "output_type": "execute_result"
    }
   ],
   "source": [
    "food_claims[food_claims['time_to_close'] == food_claims.time_to_close.min()]"
   ]
  },
  {
   "cell_type": "code",
   "execution_count": 18,
   "id": "51ba48bf",
   "metadata": {},
   "outputs": [],
   "source": [
    "# dropping the row with \"-57\" in the time_to_close column, since day cannot be negative\n",
    "food_claims.drop(food_claims[food_claims['time_to_close'] == food_claims.time_to_close.min()].index,inplace=True)"
   ]
  },
  {
   "cell_type": "code",
   "execution_count": 19,
   "id": "b37d8f21",
   "metadata": {},
   "outputs": [
    {
     "data": {
      "text/html": [
       "<div>\n",
       "<style scoped>\n",
       "    .dataframe tbody tr th:only-of-type {\n",
       "        vertical-align: middle;\n",
       "    }\n",
       "\n",
       "    .dataframe tbody tr th {\n",
       "        vertical-align: top;\n",
       "    }\n",
       "\n",
       "    .dataframe thead th {\n",
       "        text-align: right;\n",
       "    }\n",
       "</style>\n",
       "<table border=\"1\" class=\"dataframe\">\n",
       "  <thead>\n",
       "    <tr style=\"text-align: right;\">\n",
       "      <th></th>\n",
       "      <th>time_to_close</th>\n",
       "      <th>claim_amount</th>\n",
       "      <th>amount_paid</th>\n",
       "      <th>individuals_on_claim</th>\n",
       "    </tr>\n",
       "  </thead>\n",
       "  <tbody>\n",
       "    <tr>\n",
       "      <th>count</th>\n",
       "      <td>97.000000</td>\n",
       "      <td>97.000000</td>\n",
       "      <td>97.000000</td>\n",
       "      <td>97.000000</td>\n",
       "    </tr>\n",
       "    <tr>\n",
       "      <th>mean</th>\n",
       "      <td>841.515464</td>\n",
       "      <td>124181.721649</td>\n",
       "      <td>59040.491753</td>\n",
       "      <td>4.958763</td>\n",
       "    </tr>\n",
       "    <tr>\n",
       "      <th>std</th>\n",
       "      <td>684.364534</td>\n",
       "      <td>166849.878773</td>\n",
       "      <td>87782.945060</td>\n",
       "      <td>7.312828</td>\n",
       "    </tr>\n",
       "    <tr>\n",
       "      <th>min</th>\n",
       "      <td>29.000000</td>\n",
       "      <td>3555.000000</td>\n",
       "      <td>1013.360000</td>\n",
       "      <td>0.000000</td>\n",
       "    </tr>\n",
       "    <tr>\n",
       "      <th>25%</th>\n",
       "      <td>349.000000</td>\n",
       "      <td>40000.000000</td>\n",
       "      <td>16280.920000</td>\n",
       "      <td>1.000000</td>\n",
       "    </tr>\n",
       "    <tr>\n",
       "      <th>50%</th>\n",
       "      <td>639.000000</td>\n",
       "      <td>60000.000000</td>\n",
       "      <td>29684.920000</td>\n",
       "      <td>2.000000</td>\n",
       "    </tr>\n",
       "    <tr>\n",
       "      <th>75%</th>\n",
       "      <td>1143.000000</td>\n",
       "      <td>136642.000000</td>\n",
       "      <td>52374.980000</td>\n",
       "      <td>6.000000</td>\n",
       "    </tr>\n",
       "    <tr>\n",
       "      <th>max</th>\n",
       "      <td>3591.000000</td>\n",
       "      <td>936540.000000</td>\n",
       "      <td>558725.770000</td>\n",
       "      <td>41.000000</td>\n",
       "    </tr>\n",
       "  </tbody>\n",
       "</table>\n",
       "</div>"
      ],
      "text/plain": [
       "       time_to_close   claim_amount    amount_paid  individuals_on_claim\n",
       "count      97.000000      97.000000      97.000000             97.000000\n",
       "mean      841.515464  124181.721649   59040.491753              4.958763\n",
       "std       684.364534  166849.878773   87782.945060              7.312828\n",
       "min        29.000000    3555.000000    1013.360000              0.000000\n",
       "25%       349.000000   40000.000000   16280.920000              1.000000\n",
       "50%       639.000000   60000.000000   29684.920000              2.000000\n",
       "75%      1143.000000  136642.000000   52374.980000              6.000000\n",
       "max      3591.000000  936540.000000  558725.770000             41.000000"
      ]
     },
     "execution_count": 19,
     "metadata": {},
     "output_type": "execute_result"
    }
   ],
   "source": [
    "#checking the effect of the change made\n",
    "food_claims.describe()"
   ]
  },
  {
   "cell_type": "code",
   "execution_count": 30,
   "id": "5f86527b",
   "metadata": {},
   "outputs": [
    {
     "data": {
      "text/plain": [
       "claim_id                97\n",
       "time_to_close           95\n",
       "claim_amount            73\n",
       "amount_paid             97\n",
       "location                 4\n",
       "individuals_on_claim    19\n",
       "linked_cases             2\n",
       "cause                    3\n",
       "dtype: int64"
      ]
     },
     "execution_count": 30,
     "metadata": {},
     "output_type": "execute_result"
    }
   ],
   "source": [
    "food_claims.nunique()"
   ]
  },
  {
   "cell_type": "markdown",
   "id": "1a33ae84",
   "metadata": {},
   "source": [
    "### What is the structure of your dataset?\n",
    "\n",
    "There are 97 claims in the wrangled version of the dataset with 8 features (claim_id, time_to_close, claim_amount, amount_paid, location, individuals_on_claims, linked_cases, cause). Most variables are numeric or text in nature, but the variable linked_cases is a boolean variables.\n",
    "\n",
    "### What is/are the main feature(s) of interest in your dataset?\n",
    "\n",
    "- I'm interested in figuring out how the number of claims differ across locations\n",
    "\n",
    "- What is the distribution of time to close claims?\n",
    "\n",
    "- How does the average time to close claims differ by location?\n",
    "\n",
    "### What features in the dataset do you think will help support your investigation into your feature(s) of interest?\n",
    "\n",
    "I expect that a modification of claim_id and individuals_on_claim are the features to determine which location has the most claims. I also think that time_to_close is the feature to get how long it takes to close a claim in a location on average."
   ]
  },
  {
   "cell_type": "markdown",
   "id": "2332a0d4",
   "metadata": {},
   "source": [
    "## Univariate Exploration\n",
    "\n"
   ]
  },
  {
   "cell_type": "markdown",
   "id": "0bf5a547",
   "metadata": {},
   "source": [
    "#### Variable 1\n",
    "Looking at the distribution of \"time_to_close\" variable first."
   ]
  },
  {
   "cell_type": "code",
   "execution_count": 48,
   "id": "80018751",
   "metadata": {},
   "outputs": [
    {
     "data": {
      "image/png": "[encoded data removed]",
      "text/plain": [
       "<Figure size 576x360 with 1 Axes>"
      ]
     },
     "metadata": {
      "needs_background": "light"
     },
     "output_type": "display_data"
    }
   ],
   "source": [
    "# start with a standard-scaled plot\n",
    "binsize = 100\n",
    "\n",
    "bins = np.arange(0, food_claims['time_to_close'].max()+binsize, binsize)\n",
    "plt.figure(figsize=[8, 5])\n",
    "plt.hist(data = food_claims, x = 'time_to_close', bins=bins)\n",
    "plt.title('Distribution of Time to Close Claims', fontsize=16)\n",
    "plt.xlabel('Number of Days taken to Close Claim', fontsize=14)\n",
    "plt.ylabel('Count', fontsize=14)\n",
    "plt.show()"
   ]
  },
  {
   "cell_type": "markdown",
   "id": "f35c3ce7",
   "metadata": {},
   "source": [
    "The distribution is skewed to the right and ended up with an unevenly balanced plot with a lot of gaps in order to capture the highest values points. <br>\n",
    "Putting it on a log scale instead"
   ]
  },
  {
   "cell_type": "code",
   "execution_count": 21,
   "id": "e3a8b2fe",
   "metadata": {},
   "outputs": [
    {
     "data": {
      "text/plain": [
       "count      97.000000\n",
       "mean      841.515464\n",
       "std       684.364534\n",
       "min        29.000000\n",
       "25%       349.000000\n",
       "50%       639.000000\n",
       "75%      1143.000000\n",
       "max      3591.000000\n",
       "Name: time_to_close, dtype: float64"
      ]
     },
     "execution_count": 21,
     "metadata": {},
     "output_type": "execute_result"
    }
   ],
   "source": [
    "food_claims['time_to_close'].describe()"
   ]
  },
  {
   "cell_type": "code",
   "execution_count": 22,
   "id": "ea587c4a",
   "metadata": {
    "scrolled": false
   },
   "outputs": [
    {
     "data": {
      "text/plain": [
       "count    1.986772\n",
       "mean     2.925062\n",
       "std      2.835287\n",
       "min      1.462398\n",
       "25%      2.542825\n",
       "50%      2.805501\n",
       "75%      3.058046\n",
       "max      3.555215\n",
       "Name: time_to_close, dtype: float64"
      ]
     },
     "execution_count": 22,
     "metadata": {},
     "output_type": "execute_result"
    }
   ],
   "source": [
    "np.log10(food_claims['time_to_close'].describe())"
   ]
  },
  {
   "cell_type": "code",
   "execution_count": 49,
   "id": "f6268d37",
   "metadata": {},
   "outputs": [
    {
     "data": {
      "image/png": "[encoded data removed]",
      "text/plain": [
       "<Figure size 576x360 with 1 Axes>"
      ]
     },
     "metadata": {
      "needs_background": "light"
     },
     "output_type": "display_data"
    }
   ],
   "source": [
    "# log scale plot of number of days taken to close claim\n",
    "log_binsize = 0.1\n",
    "bins = 10 ** np.arange(1, np.log10(food_claims['time_to_close'].max())+log_binsize, log_binsize)\n",
    "ticks = [30, 70, 100,200, 300,500, 700, 1000, 1200, 1600, 2500, 3000]\n",
    "labels = ['{}'.format(v) for v in ticks]\n",
    "\n",
    "plt.figure(figsize=[8, 5])\n",
    "plt.hist(data = food_claims, x = 'time_to_close', bins = bins)\n",
    "plt.xscale('log')\n",
    "plt.title('Distribution of Time to Close Claims', fontsize=16)\n",
    "plt.xlabel('Number of Days taken to Close Claim', fontsize=14)\n",
    "plt.ylabel('Count', fontsize=14)\n",
    "plt.xticks(ticks, labels, rotation=45)\n",
    "plt.show()"
   ]
  },
  {
   "cell_type": "markdown",
   "id": "c078373f",
   "metadata": {},
   "source": [
    "This implies that the data is approximately unimodal with a peak around 1000-1200 using these tick labels. <br>\n",
    "Most common number of days taken to close claims are between 200 and 2500, with a bit of a dip in 1200-1600 range."
   ]
  },
  {
   "cell_type": "markdown",
   "id": "0b1c57ea",
   "metadata": {},
   "source": [
    "#### Variable 2\n",
    "Next, I'll look at the distribution of claim amount"
   ]
  },
  {
   "cell_type": "markdown",
   "id": "31091b96",
   "metadata": {},
   "source": [
    "There's a very long tail of Initial Claim Value. Here, I've focused on Claim Amount of value R$250,000 or less, so that I can use a smaller bin size to get a more detailed look at the main data distribution."
   ]
  },
  {
   "cell_type": "code",
   "execution_count": 24,
   "id": "385417e5",
   "metadata": {},
   "outputs": [
    {
     "data": {
      "image/png": "[encoded data removed]",
      "text/plain": [
       "<Figure size 720x360 with 1 Axes>"
      ]
     },
     "metadata": {
      "needs_background": "light"
     },
     "output_type": "display_data"
    }
   ],
   "source": [
    "bins = np.arange(0, food_claims['claim_amount'].max()+5000, 5000)\n",
    "\n",
    "plt.figure(figsize=[10,5])\n",
    "plt.hist(data=food_claims, x='claim_amount', bins=bins);\n",
    "plt.xlabel('Initial claim value (R$)')\n",
    "plt.xlim((0,250000))\n",
    "plt.show()"
   ]
  },
  {
   "cell_type": "markdown",
   "id": "bb4439b2",
   "metadata": {},
   "source": [
    "This distribution ended up with an unevenly balanced plot with a few gaps in order to capture the highest values points.<br>\n",
    "A logarithmic transformation is then applied on the x-axis"
   ]
  },
  {
   "cell_type": "code",
   "execution_count": 25,
   "id": "3fd76807",
   "metadata": {},
   "outputs": [
    {
     "data": {
      "text/plain": [
       "count        97.000000\n",
       "mean     124181.721649\n",
       "std      166849.878773\n",
       "min        3555.000000\n",
       "25%       40000.000000\n",
       "50%       60000.000000\n",
       "75%      136642.000000\n",
       "max      936540.000000\n",
       "Name: claim_amount, dtype: float64"
      ]
     },
     "execution_count": 25,
     "metadata": {},
     "output_type": "execute_result"
    }
   ],
   "source": [
    "food_claims['claim_amount'].describe()"
   ]
  },
  {
   "cell_type": "code",
   "execution_count": 26,
   "id": "31d4dc63",
   "metadata": {},
   "outputs": [
    {
     "data": {
      "text/plain": [
       "count    1.986772\n",
       "mean     5.094058\n",
       "std      5.222326\n",
       "min      3.550840\n",
       "25%      4.602060\n",
       "50%      4.778151\n",
       "75%      5.135584\n",
       "max      5.971526\n",
       "Name: claim_amount, dtype: float64"
      ]
     },
     "execution_count": 26,
     "metadata": {},
     "output_type": "execute_result"
    }
   ],
   "source": [
    "np.log10(food_claims['claim_amount'].describe())"
   ]
  },
  {
   "cell_type": "code",
   "execution_count": 27,
   "id": "1b22aff2",
   "metadata": {},
   "outputs": [
    {
     "data": {
      "image/png": "[encoded data removed]",
      "text/plain": [
       "<Figure size 576x360 with 1 Axes>"
      ]
     },
     "metadata": {
      "needs_background": "light"
     },
     "output_type": "display_data"
    }
   ],
   "source": [
    "# log scale plot of initial claim value\n",
    "log_binsize = 0.1\n",
    "bins = 10 ** np.arange(3, np.log10(food_claims['claim_amount'].max())+log_binsize, log_binsize)\n",
    "ticks = [3000, 10000, 30000, 40000, 100000, 300000, 1000000]\n",
    "labels = ['{}'.format(v) for v in ticks]\n",
    "\n",
    "plt.figure(figsize=[8, 5])\n",
    "plt.hist(data = food_claims, x = 'claim_amount', bins = bins)\n",
    "plt.xscale('log')\n",
    "plt.xlabel('Initial claim value (R$)')\n",
    "plt.xticks(ticks, labels, rotation=45)\n",
    "plt.show()"
   ]
  },
  {
   "cell_type": "markdown",
   "id": "8d8c7094",
   "metadata": {},
   "source": [
    "When plotted on a log-scale, the claim amount distribution looks unimodal, with the peak around R$40000"
   ]
  },
  {
   "cell_type": "markdown",
   "id": "3916f8d3",
   "metadata": {},
   "source": [
    "#### Variable 3\n",
    "Next up, the variable of interest is location"
   ]
  },
  {
   "cell_type": "code",
   "execution_count": 46,
   "id": "608ca0e0",
   "metadata": {},
   "outputs": [
    {
     "data": {
      "image/png": "[encoded data removed]",
      "text/plain": [
       "<Figure size 720x360 with 1 Axes>"
      ]
     },
     "metadata": {
      "needs_background": "light"
     },
     "output_type": "display_data"
    }
   ],
   "source": [
    "#a column chart of count of claims across different locations\n",
    "\n",
    "plt.figure(figsize = [10,5])\n",
    "\n",
    "base_color = sb.color_palette()[0]\n",
    "order = food_claims.location.value_counts().index\n",
    "ax= sb.countplot(data=food_claims, x='location', color=base_color, order=order)\n",
    "ax.set_title('Count of number of claims across locations', fontsize=18, pad=20)\n",
    "ax.set_xlabel('Location of the Claim', fontsize=14)\n",
    "ax.set_ylabel('Count', fontsize=14)\n",
    "\n",
    "plt.show()"
   ]
  },
  {
   "cell_type": "markdown",
   "id": "85d756e9",
   "metadata": {},
   "source": [
    "Sao Luis is the location with most claims, followed by Recife and then Fortaleza in third, with Natal being the location with the least claims. There is no much difference on the number of claims made across the different locations"
   ]
  },
  {
   "cell_type": "markdown",
   "id": "85e957d7",
   "metadata": {},
   "source": [
    "## Bivariate Exploration\n",
    "\n",
    "In this section,  investigated relationships between pairs of variables in my\n",
    "data. The variables covered here have been introduced in some\n",
    "fashion in the previous section (univariate exploration)."
   ]
  },
  {
   "cell_type": "markdown",
   "id": "1070844c",
   "metadata": {},
   "source": [
    "#### Bivariate 1\n",
    "To start off with, I want to look at the correlations present between time_to_close and location."
   ]
  },
  {
   "cell_type": "code",
   "execution_count": 52,
   "id": "17c79530",
   "metadata": {},
   "outputs": [
    {
     "data": {
      "image/png": "[encoded data removed]",
      "text/plain": [
       "<Figure size 720x360 with 1 Axes>"
      ]
     },
     "metadata": {
      "needs_background": "light"
     },
     "output_type": "display_data"
    }
   ],
   "source": [
    "plt.figure(figsize = [10,5])\n",
    "ax=sb.boxplot(data=food_claims, x='location', y='time_to_close', color=base_color)\n",
    "ax.set_title('Time to close claims by Location', fontsize=20, pad=20)\n",
    "ax.set_xlabel('Location of the Claim', fontsize=14)\n",
    "ax.set_ylabel('Time to close claims (In days)', fontsize=14)\n",
    "plt.show()"
   ]
  },
  {
   "cell_type": "markdown",
   "id": "196d5790",
   "metadata": {},
   "source": [
    "It could be seen from the plot above that Sao Luis is the location that took most time(days) to close claims on the average, followed by Recife and then Fortaleza. While Natal is the location that took the least time(days) to close on the average."
   ]
  },
  {
   "cell_type": "markdown",
   "id": "b9fbfb1f",
   "metadata": {},
   "source": [
    "### Some of the relationships I observed in this part of the investigation. How the feature(s) of interest vary with other features in the dataset?\n",
    "\n",
    "Sao Luis is the location that took the most average number of days to close. It is also the only location that has its top whisker a bit longer and different from the others, which implies that it has claims that took extremely long time to close."
   ]
  },
  {
   "cell_type": "markdown",
   "id": "e9c31955",
   "metadata": {},
   "source": [
    "## Conclusions\n",
    "\n",
    "Before exploring, I carried out preliminary wrangling to fill null values in the cause column with 'unknown' and to also drop the row with negative value in the time to close column, since day cannot be negative.\n",
    "\n",
    "During the exploration, I discovered that Sao Luis is the location with most claims and there is no much difference on the number of claims made across the different locations.\n",
    "\n",
    "I also found out that time_to_close has an approximately unimodal distribution with a peak around 1000-1200 days. Most common number of days taken to close claims are between 200 and 2500, with a bit of a dip in 1200-1600 range.\n",
    "\n",
    "Sao Luis is the location that took most time(days) to close claims on the average, followed by Recife and then Fortaleza. While Natal is the location that took the least time(days) to close on the average.\n",
    "Sao Luis is also the only location that has its top whisker a bit longer and different from the others, which implies that it has claims that took extremely long time to close."
   ]
  },
  {
   "attachments": {},
   "cell_type": "markdown",
   "id": "10377720",
   "metadata": {},
   "source": [
    "### Limitations\n",
    "\n",
    "There is no data on the number of vivendo outlets around legal team locations.\n",
    "\n",
    "### Suggestions\n",
    "\n",
    "Based on all of the above, I would recommend more personnel are added to the legal team in Sao Luis, as it is the location with most claims and also the location that took most time to close claims of customer on average. Further analysis should be done to understand if the number of vivendo outlets around legal team locations impact the number of claims."
   ]
  }
 ],
 "metadata": {
  "kernelspec": {
   "display_name": "Python 3 (ipykernel)",
   "language": "python",
   "name": "python3"
  },
  "language_info": {
   "codemirror_mode": {
    "name": "ipython",
    "version": 3
   },
   "file_extension": ".py",
   "mimetype": "text/x-python",
   "name": "python",
   "nbconvert_exporter": "python",
   "pygments_lexer": "ipython3",
   "version": "3.9.12"
  }
 },
 "nbformat": 4,
 "nbformat_minor": 5
}
